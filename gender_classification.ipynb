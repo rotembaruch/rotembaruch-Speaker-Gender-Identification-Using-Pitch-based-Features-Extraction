{
 "cells": [
  {
   "cell_type": "code",
   "execution_count": 1,
   "metadata": {},
   "outputs": [],
   "source": [
    "import tensorflow as tf\n",
    "import torchaudio\n",
    "import sys,os\n",
    "import pandas as pd\n",
    "import numpy as np\n",
    "from numpy.random import randint\n",
    "import matplotlib.pyplot as plt\n",
    "import librosa\n",
    "import librosa.display\n",
    "import re\n",
    "\n",
    "from sklearn.preprocessing import LabelEncoder\n",
    "from keras.utils import to_categorical\n",
    "from sklearn import metrics\n",
    "# models\n",
    "from sklearn.ensemble import RandomForestClassifier\n",
    "\n",
    "\n",
    "\n",
    "\n",
    "from sklearn.metrics import accuracy_score\n",
    "\n"
   ]
  },
  {
   "cell_type": "markdown",
   "metadata": {},
   "source": [
    "# -  Data Loading & Feature Extraction"
   ]
  },
  {
   "cell_type": "code",
   "execution_count": 2,
   "metadata": {},
   "outputs": [],
   "source": [
    "sample_rate = 16000\n",
    "def extract_features(audio):\n",
    "    mfccs = librosa.feature.mfcc(y=audio, sr=sample_rate, n_mfcc=40)\n",
    " \n",
    "    return mfccs   # it returns a np.array with size (40,'n') where n is the number of audio frames."
   ]
  },
  {
   "cell_type": "code",
   "execution_count": 3,
   "metadata": {},
   "outputs": [
    {
     "data": {
      "text/html": [
       "<div>\n",
       "<style scoped>\n",
       "    .dataframe tbody tr th:only-of-type {\n",
       "        vertical-align: middle;\n",
       "    }\n",
       "\n",
       "    .dataframe tbody tr th {\n",
       "        vertical-align: top;\n",
       "    }\n",
       "\n",
       "    .dataframe thead th {\n",
       "        text-align: right;\n",
       "    }\n",
       "</style>\n",
       "<table border=\"1\" class=\"dataframe\">\n",
       "  <thead>\n",
       "    <tr style=\"text-align: right;\">\n",
       "      <th></th>\n",
       "      <th>speaker_id</th>\n",
       "      <th>features</th>\n",
       "      <th>gender</th>\n",
       "    </tr>\n",
       "  </thead>\n",
       "  <tbody>\n",
       "    <tr>\n",
       "      <th>0</th>\n",
       "      <td>1272</td>\n",
       "      <td>[[-528.69946, -501.22946, -503.7977, -518.0384...</td>\n",
       "      <td>1</td>\n",
       "    </tr>\n",
       "    <tr>\n",
       "      <th>1</th>\n",
       "      <td>1272</td>\n",
       "      <td>[[-572.3399, -562.6875, -547.48303, -514.67474...</td>\n",
       "      <td>1</td>\n",
       "    </tr>\n",
       "    <tr>\n",
       "      <th>2</th>\n",
       "      <td>1272</td>\n",
       "      <td>[[-529.91327, -494.09573, -478.23132, -459.471...</td>\n",
       "      <td>1</td>\n",
       "    </tr>\n",
       "    <tr>\n",
       "      <th>3</th>\n",
       "      <td>1272</td>\n",
       "      <td>[[-541.216, -504.3137, -481.6609, -455.47534, ...</td>\n",
       "      <td>1</td>\n",
       "    </tr>\n",
       "    <tr>\n",
       "      <th>4</th>\n",
       "      <td>1272</td>\n",
       "      <td>[[-490.3293, -442.96283, -405.95102, -379.4946...</td>\n",
       "      <td>1</td>\n",
       "    </tr>\n",
       "    <tr>\n",
       "      <th>5</th>\n",
       "      <td>1272</td>\n",
       "      <td>[[-420.6933, -391.5817, -402.1242, -425.6603, ...</td>\n",
       "      <td>1</td>\n",
       "    </tr>\n",
       "    <tr>\n",
       "      <th>6</th>\n",
       "      <td>1272</td>\n",
       "      <td>[[-579.5069, -540.7488, -504.11133, -499.32086...</td>\n",
       "      <td>1</td>\n",
       "    </tr>\n",
       "    <tr>\n",
       "      <th>7</th>\n",
       "      <td>1272</td>\n",
       "      <td>[[-567.024, -525.76654, -494.5746, -477.10895,...</td>\n",
       "      <td>1</td>\n",
       "    </tr>\n",
       "    <tr>\n",
       "      <th>8</th>\n",
       "      <td>1272</td>\n",
       "      <td>[[-500.19687, -459.13394, -436.62683, -416.311...</td>\n",
       "      <td>1</td>\n",
       "    </tr>\n",
       "    <tr>\n",
       "      <th>9</th>\n",
       "      <td>1272</td>\n",
       "      <td>[[-562.1569, -521.306, -467.74948, -429.08594,...</td>\n",
       "      <td>1</td>\n",
       "    </tr>\n",
       "  </tbody>\n",
       "</table>\n",
       "</div>"
      ],
      "text/plain": [
       "  speaker_id                                           features  gender\n",
       "0       1272  [[-528.69946, -501.22946, -503.7977, -518.0384...       1\n",
       "1       1272  [[-572.3399, -562.6875, -547.48303, -514.67474...       1\n",
       "2       1272  [[-529.91327, -494.09573, -478.23132, -459.471...       1\n",
       "3       1272  [[-541.216, -504.3137, -481.6609, -455.47534, ...       1\n",
       "4       1272  [[-490.3293, -442.96283, -405.95102, -379.4946...       1\n",
       "5       1272  [[-420.6933, -391.5817, -402.1242, -425.6603, ...       1\n",
       "6       1272  [[-579.5069, -540.7488, -504.11133, -499.32086...       1\n",
       "7       1272  [[-567.024, -525.76654, -494.5746, -477.10895,...       1\n",
       "8       1272  [[-500.19687, -459.13394, -436.62683, -416.311...       1\n",
       "9       1272  [[-562.1569, -521.306, -467.74948, -429.08594,...       1"
      ]
     },
     "execution_count": 3,
     "metadata": {},
     "output_type": "execute_result"
    }
   ],
   "source": [
    "# there are 2703 audio files (ext: .flac)\n",
    "\n",
    "root = \"LibriSpeech/dev-clean/\"\n",
    "df = pd.DataFrame(columns=['speaker_id', 'features'])              \n",
    "\n",
    "i = 0\n",
    "max_pad_len = 1021\n",
    "\n",
    "# loading the features in the first dataframe\n",
    "for path, subdirs, files in os.walk(root):\n",
    "    for name in files:\n",
    "        speaker_id = path.split('/')[2]\n",
    "        speaker_id = speaker_id.split('\\\\')[0]\n",
    "\n",
    "        if name.endswith(\".flac\"):\n",
    "            sound, sample_rate = librosa.load(os.path.join(path, name), sr=16000)\n",
    "            data = extract_features(sound)\n",
    "            \n",
    "            # zero-pad the mfccs features \n",
    "            # max_pad_len is the biggest number of audio frames\n",
    "            # obtained by extracting features (mfccs) from all the audio files.\n",
    "            pad_width = max_pad_len - data.shape[1]\n",
    "            data = np.pad(data, pad_width=((0,0), (0, pad_width)), mode='constant')\n",
    "            df.loc[i] = [speaker_id] + [data]\n",
    "            i += 1\n",
    "            \n",
    "# loading the labels in the second dataframe\n",
    "root = \"LibriSpeech/\"\n",
    "labels = pd.DataFrame(columns=['speaker_id', 'gender'])\n",
    "\n",
    "f = open(\"LibriSpeech/SPEAKERS.txt\", \"r\", encoding=\"UTF8\").readlines()\n",
    "i = 0\n",
    "for idx, line in enumerate(f):\n",
    "    if idx > 11:\n",
    "        parsed = re.split('\\s+',line)\n",
    "        if parsed[4] == 'dev-clean':\n",
    "            labels.loc[i] = parsed[0], parsed[2] # speaker_id and label (M/F)\n",
    "            i += 1   \n",
    "\n",
    "dataset = pd.merge(df, labels, on='speaker_id')  # merging the two dataframes.\n",
    "\n",
    "# REPLACE CATEGORICAL VALUES INTO NUMERIC VALUES\n",
    "dataset[\"gender\"].replace({\"M\": 1, \"F\": 0}, inplace=True)\n",
    "dataset.head(10)"
   ]
  },
  {
   "cell_type": "markdown",
   "metadata": {},
   "source": [
    "# EDA"
   ]
  },
  {
   "cell_type": "code",
   "execution_count": 4,
   "metadata": {},
   "outputs": [
    {
     "data": {
      "text/plain": [
       "0    1374\n",
       "1    1329\n",
       "Name: gender, dtype: int64"
      ]
     },
     "execution_count": 4,
     "metadata": {},
     "output_type": "execute_result"
    }
   ],
   "source": [
    "dataset['gender'].value_counts()"
   ]
  },
  {
   "cell_type": "code",
   "execution_count": 5,
   "metadata": {},
   "outputs": [
    {
     "data": {
      "text/plain": [
       "<matplotlib.colorbar.Colorbar at 0x1dc725d8820>"
      ]
     },
     "execution_count": 5,
     "metadata": {},
     "output_type": "execute_result"
    },
    {
     "data": {
      "image/png": "[encoded data removed]",
      "text/plain": [
       "<Figure size 1080x216 with 2 Axes>"
      ]
     },
     "metadata": {
      "needs_background": "light"
     },
     "output_type": "display_data"
    }
   ],
   "source": [
    "x, sr = librosa.load(r'C:\\Users\\Lenovo\\Desktop\\gender_idefication\\LibriSpeech\\dev-clean\\84\\121123\\84-121123-0000.flac')\n",
    "# Spectrogram of frequency\n",
    "X = librosa.stft(x)\n",
    "Xdb = librosa.amplitude_to_db(abs(X))\n",
    "plt.figure(figsize=(15, 3))\n",
    "librosa.display.specshow(Xdb, sr=sr, x_axis='time', y_axis='hz')\n",
    "plt.colorbar()"
   ]
  },
  {
   "cell_type": "markdown",
   "metadata": {},
   "source": [
    "## Mel-Frequency Cepstral Coefficients (MFCCs)"
   ]
  },
  {
   "cell_type": "code",
   "execution_count": 6,
   "metadata": {},
   "outputs": [
    {
     "name": "stderr",
     "output_type": "stream",
     "text": [
      "C:\\Users\\Lenovo\\AppData\\Local\\Temp/ipykernel_20092/400924730.py:2: FutureWarning: Pass y=[0. 0. 0. ... 0. 0. 0.] as keyword args. From version 0.10 passing these as positional arguments will result in an error\n",
      "  mfccs = librosa.feature.mfcc(x, sr=sr)\n"
     ]
    },
    {
     "data": {
      "text/plain": [
       "<matplotlib.collections.QuadMesh at 0x1dc729b0cd0>"
      ]
     },
     "execution_count": 6,
     "metadata": {},
     "output_type": "execute_result"
    },
    {
     "data": {
      "image/png": "[encoded data removed]",
      "text/plain": [
       "<Figure size 1080x216 with 1 Axes>"
      ]
     },
     "metadata": {
      "needs_background": "light"
     },
     "output_type": "display_data"
    }
   ],
   "source": [
    "y, sr = librosa.load(r'C:\\Users\\Lenovo\\Desktop\\gender_idefication\\LibriSpeech\\dev-clean\\84\\121123\\84-121123-0000.flac')\n",
    "mfccs = librosa.feature.mfcc(x, sr=sr)\n",
    "# Displaying  the MFCCs:\n",
    "plt.figure(figsize=(15, 3))\n",
    "librosa.display.specshow(mfccs, sr=sr, x_axis='time')"
   ]
  },
  {
   "cell_type": "markdown",
   "metadata": {},
   "source": [
    "## Amplitude"
   ]
  },
  {
   "cell_type": "code",
   "execution_count": 7,
   "metadata": {},
   "outputs": [
    {
     "data": {
      "text/plain": [
       "Text(54.625, 0.5, 'Amplitude')"
      ]
     },
     "execution_count": 7,
     "metadata": {},
     "output_type": "execute_result"
    },
    {
     "data": {
      "image/png": "[encoded data removed]",
      "text/plain": [
       "<Figure size 720x720 with 1 Axes>"
      ]
     },
     "metadata": {
      "needs_background": "light"
     },
     "output_type": "display_data"
    }
   ],
   "source": [
    "path = r'C:\\Users\\Lenovo\\Desktop\\gender_idefication\\LibriSpeech\\dev-clean\\84\\121123\\84-121123-0000.flac'\n",
    "sound, sample_rate = librosa.load(path, sr=16000)\n",
    "\n",
    "plt.figure(figsize=(10, 10))\n",
    "plt.subplot(2, 1, 1)\n",
    "librosa.display.waveshow (sound, sr= sample_rate)\n",
    "plt.title('Audio Sgnal')\n",
    "plt.ylabel(\"Amplitude\")"
   ]
  },
  {
   "cell_type": "markdown",
   "metadata": {},
   "source": [
    "## Spectogram"
   ]
  },
  {
   "cell_type": "code",
   "execution_count": 8,
   "metadata": {},
   "outputs": [
    {
     "name": "stderr",
     "output_type": "stream",
     "text": [
      "C:\\Users\\Lenovo\\AppData\\Local\\Temp/ipykernel_20092/2633925381.py:2: FutureWarning: Pass y=[0. 0. 0. ... 0. 0. 0.] as keyword args. From version 0.10 passing these as positional arguments will result in an error\n",
      "  spectogram = librosa.feature.melspectrogram(sound, sr=sample_rate)\n"
     ]
    },
    {
     "data": {
      "image/png": "[encoded data removed]",
      "text/plain": [
       "<Figure size 432x288 with 1 Axes>"
      ]
     },
     "metadata": {},
     "output_type": "display_data"
    }
   ],
   "source": [
    "plt.subplot(2, 1, 2)\n",
    "spectogram = librosa.feature.melspectrogram(sound, sr=sample_rate)\n",
    "log_spectogram = librosa.power_to_db(spectogram, ref=np.max)\n",
    "librosa.display.specshow(log_spectogram)\n",
    "plt.title('Spectogram')\n",
    "plt.xlabel(\"Time\")\n",
    "plt.ylabel(\"Frequency\")\n",
    "plt.show()"
   ]
  },
  {
   "cell_type": "markdown",
   "metadata": {},
   "source": [
    "#  Train  Test split\n",
    "\n"
   ]
  },
  {
   "cell_type": "code",
   "execution_count": 9,
   "metadata": {},
   "outputs": [],
   "source": [
    "train_test_ratio = 0.80\n",
    "n_sounds = 2703\n",
    "\n",
    "def split_train_test(train_test_ratio, n_sounds):\n",
    "    \n",
    "    train = pd.DataFrame(columns=['speaker_id', 'features' , 'gender'])\n",
    "    test = pd.DataFrame(columns=['speaker_id', 'features', 'gender'])\n",
    "    \n",
    "    train_elems = int(np.floor(n_sounds*train_test_ratio))\n",
    "    test_elems = n_sounds - train_elems\n",
    "\n",
    "  \n",
    "\n",
    "    male_train = int(np.floor(dataset['gender'].value_counts()[0]* train_test_ratio))\n",
    "    male_test = int(np.ceil(dataset['gender'].value_counts()[0]* (1-train_test_ratio)))\n",
    "    train_sizes = [male_train, train_elems]\n",
    "    test_sizes = [male_test + male_train, n_sounds]\n",
    "    \n",
    "    for gender in range(2):  \n",
    "        if gender == 0:\n",
    "            gender_set = dataset[dataset[\"gender\"] == gender]   # MALES\n",
    "        elif gender == 1:\n",
    "            gender_set = dataset[dataset[\"gender\"] == gender]   # FEMALES\n",
    "\n",
    "        ordered_gender_set = gender_set['speaker_id'].value_counts()\n",
    "        i = 0\n",
    "        while (train.shape[0] < train_sizes[gender]):\n",
    "            train = train.append(gender_set[gender_set[\"speaker_id\"] == ordered_gender_set.index[i]])\n",
    "            i += 1\n",
    "        while (test.shape[0] + train.shape[0] != test_sizes[gender]): \n",
    "            test = test.append(gender_set[gender_set[\"speaker_id\"] == ordered_gender_set.index[i]])\n",
    "            i += 1\n",
    "\n",
    "    return train, test\n",
    "   \n",
    "train, test = split_train_test(train_test_ratio, n_sounds)"
   ]
  },
  {
   "cell_type": "markdown",
   "metadata": {},
   "source": [
    "# ML Algorithms"
   ]
  },
  {
   "cell_type": "code",
   "execution_count": 10,
   "metadata": {},
   "outputs": [
    {
     "data": {
      "text/plain": [
       "((2176, 40), (2176,), (527, 40), (527,))"
      ]
     },
     "execution_count": 10,
     "metadata": {},
     "output_type": "execute_result"
    }
   ],
   "source": [
    "\n",
    "\n",
    "X_train = np.mean(np.array(train.features.tolist()), axis = 2)\n",
    "X_test = np.mean(np.array(test.features.tolist()), axis = 2)\n",
    "y_train = np.array(train.gender.tolist())\n",
    "y_test = np.array(test.gender.tolist())\n",
    "\n",
    "le = LabelEncoder()\n",
    "yy_train = to_categorical(le.fit_transform(y_train)) \n",
    "yy_test = to_categorical(le.fit_transform(y_test)) \n",
    "\n",
    "X_train.shape, y_train.shape, X_test.shape, y_test.shape"
   ]
  },
  {
   "cell_type": "markdown",
   "metadata": {},
   "source": [
    "## Support Vector Machine"
   ]
  },
  {
   "cell_type": "code",
   "execution_count": 11,
   "metadata": {},
   "outputs": [
    {
     "name": "stdout",
     "output_type": "stream",
     "text": [
      "Accuracy:  0.8178368121442126\n",
      "tpr:  [0.         0.83032491 1.        ]\n",
      "fpr:  [0.    0.196 1.   ]\n"
     ]
    }
   ],
   "source": [
    "from sklearn import svm\n",
    "\n",
    "svc = svm.SVC()\n",
    "svc.fit(X_train, y_train)\n",
    "y_pred = svc.predict(X_test)\n",
    "\n",
    "accuracy = accuracy_score(y_test, y_pred)\n",
    "fpr, tpr, thresholds = metrics.roc_curve(y_test, y_pred, pos_label=1)\n",
    "\n",
    "print(\"Accuracy: \", accuracy)\n",
    "print(\"tpr: \", tpr)\n",
    "print(\"fpr: \", fpr)\n"
   ]
  },
  {
   "cell_type": "markdown",
   "metadata": {},
   "source": [
    "## Naive base"
   ]
  },
  {
   "cell_type": "code",
   "execution_count": 12,
   "metadata": {},
   "outputs": [
    {
     "name": "stdout",
     "output_type": "stream",
     "text": [
      "Accuracy:  0.8216318785578748\n",
      "fpr:  [0.    0.076 1.   ]\n",
      "tpr:  [0.         0.72924188 1.        ]\n"
     ]
    }
   ],
   "source": [
    "from sklearn import naive_bayes\n",
    "\n",
    "clf = naive_bayes.GaussianNB()\n",
    "clf.fit(X_train, y_train)\n",
    "y_pred = clf.predict(X_test)\n",
    "\n",
    "accuracy = accuracy_score(y_test, y_pred)\n",
    "fpr, tpr, thresholds = metrics.roc_curve(y_test, y_pred, pos_label=1)\n",
    "\n",
    "print(\"Accuracy: \", accuracy)\n",
    "print(\"fpr: \", fpr)\n",
    "print(\"tpr: \", tpr)\n"
   ]
  },
  {
   "cell_type": "markdown",
   "metadata": {},
   "source": [
    "# KNN"
   ]
  },
  {
   "cell_type": "code",
   "execution_count": 13,
   "metadata": {},
   "outputs": [
    {
     "name": "stdout",
     "output_type": "stream",
     "text": [
      "Accuracy:  0.7362428842504743\n",
      "fpr:  [0.    0.264 1.   ]\n",
      "tpr:  [0.         0.73646209 1.        ]\n"
     ]
    }
   ],
   "source": [
    "from sklearn.neighbors import KNeighborsClassifier\n",
    "\n",
    "\n",
    "clf = KNeighborsClassifier()\n",
    "clf.fit(X_train, y_train)\n",
    "y_pred = clf.predict(X_test)\n",
    "\n",
    "accuracy = accuracy_score(y_test, y_pred)\n",
    "fpr, tpr, thresholds = metrics.roc_curve(y_test, y_pred, pos_label=1)\n",
    "\n",
    "print(\"Accuracy: \", accuracy)\n",
    "print(\"fpr: \", fpr)\n",
    "print(\"tpr: \", tpr)\n"
   ]
  },
  {
   "cell_type": "markdown",
   "metadata": {},
   "source": [
    "## Random Forest"
   ]
  },
  {
   "cell_type": "code",
   "execution_count": 14,
   "metadata": {},
   "outputs": [
    {
     "name": "stdout",
     "output_type": "stream",
     "text": [
      "Accuracy:  0.8690702087286527\n",
      "fpr:  [0.    0.016 1.   ]\n",
      "tpr:  [0.         0.76534296 1.        ]\n"
     ]
    }
   ],
   "source": [
    "from sklearn.ensemble import RandomForestClassifier\n",
    "\n",
    "\n",
    "clf = RandomForestClassifier()\n",
    "clf.fit(X_train, y_train)\n",
    "y_pred = clf.predict(X_test)\n",
    "\n",
    "accuracy = accuracy_score(y_test, y_pred)\n",
    "fpr, tpr, thresholds = metrics.roc_curve(y_test, y_pred, pos_label=1)\n",
    "\n",
    "print(\"Accuracy: \", accuracy)\n",
    "print(\"fpr: \", fpr)\n",
    "print(\"tpr: \", tpr)"
   ]
  },
  {
   "cell_type": "markdown",
   "metadata": {},
   "source": [
    "## MLP"
   ]
  },
  {
   "cell_type": "code",
   "execution_count": 15,
   "metadata": {},
   "outputs": [
    {
     "name": "stdout",
     "output_type": "stream",
     "text": [
      "Accuracy:  0.8614800759013282\n",
      "fpr:  [0.    0.076 1.   ]\n",
      "tpr:  [0.         0.80505415 1.        ]\n"
     ]
    }
   ],
   "source": [
    "from sklearn.neural_network import MLPClassifier\n",
    "\n",
    "clf = MLPClassifier()\n",
    "clf.fit(X_train, y_train)\n",
    "y_pred = clf.predict(X_test)\n",
    "\n",
    "accuracy = accuracy_score(y_test, y_pred)\n",
    "fpr, tpr, thresholds = metrics.roc_curve(y_test, y_pred, pos_label=1)\n",
    "\n",
    "print(\"Accuracy: \", accuracy)\n",
    "print(\"fpr: \", fpr)\n",
    "print(\"tpr: \", tpr)"
   ]
  },
  {
   "cell_type": "markdown",
   "metadata": {},
   "source": [
    "# PCA"
   ]
  },
  {
   "cell_type": "code",
   "execution_count": 16,
   "metadata": {},
   "outputs": [
    {
     "name": "stdout",
     "output_type": "stream",
     "text": [
      "0.7628083491461101\n",
      "0.7552182163187856\n",
      "0.7760910815939279\n",
      "0.7533206831119544\n",
      "0.7571157495256167\n",
      "0.7552182163187856\n",
      "0.7495256166982922\n",
      "0.7419354838709677\n",
      "0.7400379506641366\n",
      "0.7609108159392789\n",
      "0.7438330170777988\n",
      "0.7324478178368121\n",
      "0.7685009487666035\n",
      "0.7893738140417458\n",
      "0.7817836812144212\n",
      "0.7628083491461101\n",
      "0.7552182163187856\n",
      "0.7817836812144212\n",
      "0.7722960151802657\n",
      "0.7912713472485768\n",
      "0.777988614800759\n",
      "0.7817836812144212\n",
      "0.7855787476280834\n",
      "0.7874762808349146\n",
      "0.7950664136622391\n",
      "0.8083491461100569\n",
      "0.7969639468690702\n",
      "0.7722960151802657\n",
      "0.7855787476280834\n",
      "0.7950664136622391\n",
      "0.8026565464895635\n",
      "0.7988614800759013\n",
      "0.7798861480075902\n",
      "0.8102466793168881\n",
      "0.8121442125237192\n",
      "0.650853889943074\n",
      "0.6413662239089184\n",
      "0.6679316888045541\n",
      "0.6091081593927894\n"
     ]
    }
   ],
   "source": [
    "from sklearn.decomposition import PCA\n",
    "\n",
    "accuracy_list=[]\n",
    "for i in range (40,2,-1):\n",
    "    pca = PCA(n_components=i)\n",
    "    pca.fit(X_train)\n",
    "    X_train_reduced = pca.transform(X_train)\n",
    "    X_test_reduced = pca.transform(X_test)\n",
    "    \n",
    "    \n",
    "    clf = RandomForestClassifier()\n",
    "    clf.fit(X_train_reduced, y_train)\n",
    "    y_pred = clf.predict(X_test_reduced)\n",
    "    acc = accuracy_score(y_test, y_pred)\n",
    "    print(acc)\n",
    "    accuracy_list.append(acc)\n",
    "\n",
    "df_pca_results = pd.DataFrame(accuracy_list) \n",
    "df_pca_results.to_csv('df_pca_results.csv') "
   ]
  },
  {
   "cell_type": "code",
   "execution_count": 17,
   "metadata": {},
   "outputs": [
    {
     "data": {
      "text/html": [
       "<div>\n",
       "<style scoped>\n",
       "    .dataframe tbody tr th:only-of-type {\n",
       "        vertical-align: middle;\n",
       "    }\n",
       "\n",
       "    .dataframe tbody tr th {\n",
       "        vertical-align: top;\n",
       "    }\n",
       "\n",
       "    .dataframe thead th {\n",
       "        text-align: right;\n",
       "    }\n",
       "</style>\n",
       "<table border=\"1\" class=\"dataframe\">\n",
       "  <thead>\n",
       "    <tr style=\"text-align: right;\">\n",
       "      <th></th>\n",
       "      <th>0</th>\n",
       "    </tr>\n",
       "  </thead>\n",
       "  <tbody>\n",
       "    <tr>\n",
       "      <th>0</th>\n",
       "      <td>0.762808</td>\n",
       "    </tr>\n",
       "    <tr>\n",
       "      <th>1</th>\n",
       "      <td>0.755218</td>\n",
       "    </tr>\n",
       "    <tr>\n",
       "      <th>2</th>\n",
       "      <td>0.776091</td>\n",
       "    </tr>\n",
       "    <tr>\n",
       "      <th>3</th>\n",
       "      <td>0.753321</td>\n",
       "    </tr>\n",
       "    <tr>\n",
       "      <th>4</th>\n",
       "      <td>0.757116</td>\n",
       "    </tr>\n",
       "    <tr>\n",
       "      <th>5</th>\n",
       "      <td>0.755218</td>\n",
       "    </tr>\n",
       "    <tr>\n",
       "      <th>6</th>\n",
       "      <td>0.749526</td>\n",
       "    </tr>\n",
       "    <tr>\n",
       "      <th>7</th>\n",
       "      <td>0.741935</td>\n",
       "    </tr>\n",
       "    <tr>\n",
       "      <th>8</th>\n",
       "      <td>0.740038</td>\n",
       "    </tr>\n",
       "    <tr>\n",
       "      <th>9</th>\n",
       "      <td>0.760911</td>\n",
       "    </tr>\n",
       "    <tr>\n",
       "      <th>10</th>\n",
       "      <td>0.743833</td>\n",
       "    </tr>\n",
       "    <tr>\n",
       "      <th>11</th>\n",
       "      <td>0.732448</td>\n",
       "    </tr>\n",
       "    <tr>\n",
       "      <th>12</th>\n",
       "      <td>0.768501</td>\n",
       "    </tr>\n",
       "    <tr>\n",
       "      <th>13</th>\n",
       "      <td>0.789374</td>\n",
       "    </tr>\n",
       "    <tr>\n",
       "      <th>14</th>\n",
       "      <td>0.781784</td>\n",
       "    </tr>\n",
       "    <tr>\n",
       "      <th>15</th>\n",
       "      <td>0.762808</td>\n",
       "    </tr>\n",
       "    <tr>\n",
       "      <th>16</th>\n",
       "      <td>0.755218</td>\n",
       "    </tr>\n",
       "    <tr>\n",
       "      <th>17</th>\n",
       "      <td>0.781784</td>\n",
       "    </tr>\n",
       "    <tr>\n",
       "      <th>18</th>\n",
       "      <td>0.772296</td>\n",
       "    </tr>\n",
       "    <tr>\n",
       "      <th>19</th>\n",
       "      <td>0.791271</td>\n",
       "    </tr>\n",
       "    <tr>\n",
       "      <th>20</th>\n",
       "      <td>0.777989</td>\n",
       "    </tr>\n",
       "    <tr>\n",
       "      <th>21</th>\n",
       "      <td>0.781784</td>\n",
       "    </tr>\n",
       "    <tr>\n",
       "      <th>22</th>\n",
       "      <td>0.785579</td>\n",
       "    </tr>\n",
       "    <tr>\n",
       "      <th>23</th>\n",
       "      <td>0.787476</td>\n",
       "    </tr>\n",
       "    <tr>\n",
       "      <th>24</th>\n",
       "      <td>0.795066</td>\n",
       "    </tr>\n",
       "    <tr>\n",
       "      <th>25</th>\n",
       "      <td>0.808349</td>\n",
       "    </tr>\n",
       "    <tr>\n",
       "      <th>26</th>\n",
       "      <td>0.796964</td>\n",
       "    </tr>\n",
       "    <tr>\n",
       "      <th>27</th>\n",
       "      <td>0.772296</td>\n",
       "    </tr>\n",
       "    <tr>\n",
       "      <th>28</th>\n",
       "      <td>0.785579</td>\n",
       "    </tr>\n",
       "    <tr>\n",
       "      <th>29</th>\n",
       "      <td>0.795066</td>\n",
       "    </tr>\n",
       "    <tr>\n",
       "      <th>30</th>\n",
       "      <td>0.802657</td>\n",
       "    </tr>\n",
       "    <tr>\n",
       "      <th>31</th>\n",
       "      <td>0.798861</td>\n",
       "    </tr>\n",
       "    <tr>\n",
       "      <th>32</th>\n",
       "      <td>0.779886</td>\n",
       "    </tr>\n",
       "    <tr>\n",
       "      <th>33</th>\n",
       "      <td>0.810247</td>\n",
       "    </tr>\n",
       "    <tr>\n",
       "      <th>34</th>\n",
       "      <td>0.812144</td>\n",
       "    </tr>\n",
       "    <tr>\n",
       "      <th>35</th>\n",
       "      <td>0.650854</td>\n",
       "    </tr>\n",
       "    <tr>\n",
       "      <th>36</th>\n",
       "      <td>0.641366</td>\n",
       "    </tr>\n",
       "    <tr>\n",
       "      <th>37</th>\n",
       "      <td>0.667932</td>\n",
       "    </tr>\n",
       "    <tr>\n",
       "      <th>38</th>\n",
       "      <td>0.609108</td>\n",
       "    </tr>\n",
       "  </tbody>\n",
       "</table>\n",
       "</div>"
      ],
      "text/plain": [
       "           0\n",
       "0   0.762808\n",
       "1   0.755218\n",
       "2   0.776091\n",
       "3   0.753321\n",
       "4   0.757116\n",
       "5   0.755218\n",
       "6   0.749526\n",
       "7   0.741935\n",
       "8   0.740038\n",
       "9   0.760911\n",
       "10  0.743833\n",
       "11  0.732448\n",
       "12  0.768501\n",
       "13  0.789374\n",
       "14  0.781784\n",
       "15  0.762808\n",
       "16  0.755218\n",
       "17  0.781784\n",
       "18  0.772296\n",
       "19  0.791271\n",
       "20  0.777989\n",
       "21  0.781784\n",
       "22  0.785579\n",
       "23  0.787476\n",
       "24  0.795066\n",
       "25  0.808349\n",
       "26  0.796964\n",
       "27  0.772296\n",
       "28  0.785579\n",
       "29  0.795066\n",
       "30  0.802657\n",
       "31  0.798861\n",
       "32  0.779886\n",
       "33  0.810247\n",
       "34  0.812144\n",
       "35  0.650854\n",
       "36  0.641366\n",
       "37  0.667932\n",
       "38  0.609108"
      ]
     },
     "execution_count": 17,
     "metadata": {},
     "output_type": "execute_result"
    }
   ],
   "source": [
    "df_pca_results\n"
   ]
  }
 ],
 "metadata": {
  "kernelspec": {
   "display_name": "Python 3 (ipykernel)",
   "language": "python",
   "name": "python3"
  },
  "language_info": {
   "codemirror_mode": {
    "name": "ipython",
    "version": 3
   },
   "file_extension": ".py",
   "mimetype": "text/x-python",
   "name": "python",
   "nbconvert_exporter": "python",
   "pygments_lexer": "ipython3",
   "version": "3.9.7"
  },
  "toc": {
   "base_numbering": 1,
   "nav_menu": {},
   "number_sections": true,
   "sideBar": true,
   "skip_h1_title": false,
   "title_cell": "Table of Contents",
   "title_sidebar": "Contents",
   "toc_cell": false,
   "toc_position": {},
   "toc_section_display": true,
   "toc_window_display": false
  }
 },
 "nbformat": 4,
 "nbformat_minor": 2
}
